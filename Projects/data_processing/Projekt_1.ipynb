{
 "cells": [
  {
   "cell_type": "code",
   "execution_count": 10,
   "id": "ea8ec06d",
   "metadata": {},
   "outputs": [],
   "source": [
    "import pandas as pd"
   ]
  },
  {
   "cell_type": "markdown",
   "id": "7aab1488",
   "metadata": {},
   "source": [
    "1. Läs in användardata, ratingdata och filmdata - Vilken info finns i vilken fil?- Skapa tre variabler med passande kolumner och läs in användardata, ratingdata och filmdata i variablerna.- Använd dtypes(), head() och describe() för att få en bättre översikt över variablerna."
   ]
  },
  {
   "cell_type": "code",
   "execution_count": null,
   "id": "524fff97",
   "metadata": {},
   "outputs": [],
   "source": [
    "ratingData = pd.read_csv(\"./u.data\", sep=\"\\t\")\n",
    "movieData = pd.read_csv(\"./u.item\", sep=\"|\", encoding=\"latin1\")\n",
    "userData = pd.read_csv(\"./u.user\", sep=\"|\")\n",
    "\n",
    "print(ratingData.dtypes)\n",
    "print(ratingData.head())\n",
    "print(ratingData.describe())\n"
   ]
  },
  {
   "cell_type": "code",
   "execution_count": null,
   "id": "c094c823",
   "metadata": {},
   "outputs": [],
   "source": [
    "print(movieData.dtypes)\n",
    "print(movieData.head())\n",
    "print(movieData.describe())"
   ]
  },
  {
   "cell_type": "code",
   "execution_count": null,
   "id": "26561a45",
   "metadata": {},
   "outputs": [],
   "source": [
    "print(userData.dtypes)\n",
    "print(userData.head())\n",
    "print(userData.describe())\n"
   ]
  },
  {
   "cell_type": "markdown",
   "id": "28023ea6",
   "metadata": {},
   "source": [
    "2. Välj data - Minska på mängden kolumner, vi vill sällan se på hela datasettet- Visa endast kolumnerna Kön, Ålder och Yrke av användarna.- Sortera ratings enligt film. (Vi vill alltså se alla ratings för en film under varann)"
   ]
  },
  {
   "cell_type": "code",
   "execution_count": null,
   "id": "8fdc678c",
   "metadata": {},
   "outputs": [],
   "source": [
    "#Läser in ratingData från u.data\n",
    "ratingData = pd.read_csv(\"./u.data\", sep=\"\\t\", names=[\"userId\", \"itemId\", \"rating\", \"timestamp\"])\n",
    "\n",
    "#Lägger till kolumner för alla genrer och id:n\n",
    "movie_columns = [\n",
    "    \"movieID\", \"movieTitle\", \"releaseDate\", \"videoReleaseDate\", \"IMDbURL\",\n",
    "    \"unknown\", \"Action\", \"Adventure\", \"Animation\", \"Children's\", \"Comedy\",\n",
    "    \"Crime\", \"Documentary\", \"Drama\", \"Fantasy\", \"Film-Noir\", \"Horror\",\n",
    "    \"Musical\", \"Mystery\", \"Romance\", \"Sci-Fi\", \"Thriller\", \"War\", \"Western\"\n",
    "]\n",
    "\n",
    "#Läser in filmdata från u.item\n",
    "movieData = pd.read_csv(\"./u.item\", sep=\"|\", names=movie_columns, encoding=\"latin1\")\n",
    "\n",
    "#Mergar id:n från ratingDatan och filmDatan med en innerjoin så att de har samma nyckel(id) i komamnde serien.\n",
    "movieRatings = pd.merge(ratingData, movieData, left_on=\"itemId\", right_on=\"movieID\", how=\"inner\")\n",
    "movieRatings\n",
    "\n"
   ]
  },
  {
   "cell_type": "code",
   "execution_count": null,
   "id": "98be2728",
   "metadata": {},
   "outputs": [],
   "source": [
    "#För at bara visa filmtitel och rating\n",
    "movieRatings[[\"movieTitle\", \"rating\"]]\n"
   ]
  },
  {
   "cell_type": "code",
   "execution_count": null,
   "id": "eb859074",
   "metadata": {},
   "outputs": [],
   "source": [
    "#Läsa in userData från u.user och lägger till kolummner\n",
    "userData = pd.read_csv(\"./u.user\", sep=\"|\", names=[\"user id\", \"age\", \"gender\", \"occupation\", \"zip code\"])\n",
    "\n",
    "#Filtrera datan genom att visa bara ålder, kön, yrke\n",
    "filteredData = userData[[\"age\", \"gender\", \"occupation\"]]\n",
    "filteredData\n",
    "\n"
   ]
  },
  {
   "cell_type": "markdown",
   "id": "14b7e515",
   "metadata": {},
   "source": [
    "3. Filtrera data - Få insikt i samband genom att visa endast vissa delar av datan- Visa endast användare med ett visst yrke.- Visa endast användare som är över 40 och män.(Tänk: bor manliga ingenjörer över 40år i stater närmare mitten av USA?)\n"
   ]
  },
  {
   "cell_type": "code",
   "execution_count": null,
   "id": "8280fd44",
   "metadata": {},
   "outputs": [],
   "source": [
    "#Läser in userData från u.user och lägger till kolumner\n",
    "userData = pd.read_csv(\"./u.user\", sep=\"|\", names=[\"user id\", \"age\", \"gender\", \"occupation\", \"zip code\"])\n",
    "\n",
    "#Variabler för att filtrera författare\n",
    "occupation = \"writer\"\n",
    "\n",
    "#Visa bara användare med yrket -> författare\n",
    "filteredData = userData.loc[userData[\"occupation\"] == occupation]\n",
    "\n",
    "filteredData"
   ]
  },
  {
   "cell_type": "code",
   "execution_count": null,
   "id": "33c37a9a",
   "metadata": {},
   "outputs": [],
   "source": [
    "#Läser in userData från u.user och lägger till kolumner\n",
    "userData = pd.read_csv(\"./u.user\", sep=\"|\", names=[\"user id\", \"age\", \"gender\", \"occupation\", \"zip code\"])\n",
    "\n",
    "#Filtrera datan så att den visar bara män över 40 år.\n",
    "#Först visar vi alla user över 40 och efter det filtrerar vi bort kvinnorna \n",
    "only_men_over_40 = userData.loc[(userData[\"age\"] > 40) & (userData[\"gender\"] == \"M\")]\n",
    "\n",
    "only_men_over_40"
   ]
  },
  {
   "cell_type": "markdown",
   "id": "7d064205",
   "metadata": {},
   "source": [
    "4.  Utforska data - Använd räkneoperationer för att illustrera egenskaper för hela dataset- Visa medelåldern av användarna som är författare.- Använd den tidigare ratings per film sorteringen för att räkna medelrating per film.- Hitta top 10 filmerna bland de som har fler än 40 ratings"
   ]
  },
  {
   "cell_type": "code",
   "execution_count": null,
   "id": "54ddbfd6",
   "metadata": {},
   "outputs": [],
   "source": [
    "#Läser in userData från u.user och lägger till kolumner\n",
    "userData = pd.read_csv(\"./u.user\", sep=\"|\", names=[\"user id\", \"age\", \"gender\", \"occupation\", \"zip code\"])\n",
    "\n",
    "#Räknar ut medelåldern för författare\n",
    "#Filtrerar först genom yrken och sedan med mean() för att få medelåldern\n",
    "average_age_authors = userData.loc[userData[\"occupation\"] == \"writer\", \"age\"].mean()\n",
    "\n",
    "print(\"Medelåldern för författare:\", average_age_authors)\n",
    "\n"
   ]
  },
  {
   "cell_type": "code",
   "execution_count": null,
   "id": "4c4ca235",
   "metadata": {},
   "outputs": [],
   "source": [
    "#Läser in ratingData från u.data\n",
    "ratingData = pd.read_csv(\"./u.data\", sep=\"\\t\", names=[\"userId\", \"itemId\", \"rating\", \"timestamp\"])\n",
    "\n",
    "movie_columns = [\n",
    "    \"movieID\", \"movieTitle\", \"releaseDate\", \"videoReleaseDate\", \"IMDbURL\",\n",
    "    \"unknown\", \"Action\", \"Adventure\", \"Animation\", \"Children's\", \"Comedy\",\n",
    "    \"Crime\", \"Documentary\", \"Drama\", \"Fantasy\", \"Film-Noir\", \"Horror\",\n",
    "    \"Musical\", \"Mystery\", \"Romance\", \"Sci-Fi\", \"Thriller\", \"War\", \"Western\"\n",
    "]\n",
    "\n",
    "#Läser in filmdata från u.item\n",
    "movieData = pd.read_csv(\"./u.item\", sep=\"|\", names=movie_columns, encoding=\"latin1\")\n",
    "#Mergar id:n från ratingDatan och filmDatan med en innerjoin så att de har samma nyckel(id) i komamnde serien.\n",
    "movieRatings = pd.merge(ratingData, movieData, left_on=\"itemId\", right_on=\"movieID\", how=\"inner\")\n",
    "\n",
    "#Grupperar genom movieTitle så att inga upprepningar skes\n",
    "#Använder mean() för att få medelvärdet på rating\n",
    "average_movie_ratings = movieRatings.groupby(\"movieTitle\")[\"rating\"].mean()\n",
    "#Lagar istället till en dataframe för kivogare visualisering\n",
    "average_movie_ratings_df = average_movie_ratings.reset_index()\n",
    "print(average_movie_ratings_df)\n",
    "\n"
   ]
  },
  {
   "cell_type": "code",
   "execution_count": null,
   "id": "6c41056d",
   "metadata": {},
   "outputs": [],
   "source": [
    "#Tar size och mean för ratings\n",
    "ratings_count = movieRatings.groupby(\"movieTitle\")[\"rating\"].size()\n",
    "average_movie_ratings = movieRatings.groupby(\"movieTitle\")[\"rating\"].mean()\n",
    "\n",
    "#Filtrear filmer som har mer än 40 ratings\n",
    "filtered_movies = ratings_count[ratings_count > 40].index\n",
    "\n",
    "#Kombinerar filmer average rating till filmer som har fler än 40 ratings \n",
    "best_movies = average_movie_ratings.loc[filtered_movies]\n",
    "\n",
    "#Printar ut bäst rateade filmer\n",
    "top_10_movies = best_movies.sort_values(ascending=False).head(10)\n",
    "top_10_movies\n",
    "\n"
   ]
  },
  {
   "cell_type": "markdown",
   "id": "d7290bd9",
   "metadata": {},
   "source": [
    "5. Kombinera dataFrames- Använd u.user datan för att undersöka vilka yrken som är vanliga bland män och vice versa? Illustrera dina observationer (inga grafer behövs), endast ett svar typ “ingenjörer är vanligast” räcker inte. Skriv t.ex ut de manliga användarna och gruppera dem enligt yrke, gör sedan nån räkneoperation och skriv ut antalen män/kvinnor för de vanligaste yrken.- Kombinera u.data med u.item för att  skapa en tabell där man kan se Movie Title och Rating.- Kombinera sedan den datan med datan från användartabellen (u.user) för att visa filmtitel, rating och information om användaren som gett den ratingen. Ordna datan enligt användar id (Vem har sett vilken film?)- Vilka 5 användare är de snällaste och vilka 5 användare är de tuffaste? (Slå ihop varjeanvändares filmratings till ett medeltal)- Kommentera ifall du hittar nåt intressant som de har gemensamt? Har de samma yrken? Hör de till nån viss åldersgrupp?"
   ]
  },
  {
   "cell_type": "code",
   "execution_count": null,
   "id": "c09542a9",
   "metadata": {},
   "outputs": [],
   "source": [
    "#Läser in userData från u.user\n",
    "userData = pd.read_csv(\"./u.user\", sep=\"|\", names=[\"user id\", \"age\", \"gender\", \"occupation\", \"zip code\"])\n",
    "\n",
    "#Filtrerar kön\n",
    "male_users = userData[userData[\"gender\"] == \"M\"]\n",
    "female_users = userData[userData[\"gender\"] == \"F\"]\n",
    "\n",
    "#Lägger yrke i variabel\n",
    "male_occupation_count = male_users.groupby(\"occupation\").size()\n",
    "female_occupation_count = female_users.groupby(\"occupation\").size()\n",
    "\n",
    "#Printar ut yrken från störst till lägst\n",
    "print(\"Top male occupation\")\n",
    "print(male_occupation_count.sort_values(ascending=False).head(10))\n",
    "\n",
    "print(\"Top female occupation\")\n",
    "print(female_occupation_count.sort_values(ascending=False).head(10))"
   ]
  },
  {
   "cell_type": "code",
   "execution_count": null,
   "id": "0b0f4b6f",
   "metadata": {},
   "outputs": [],
   "source": [
    "#Läser in data från u.user, u.data, u.item\n",
    "\n",
    "userData = pd.read_csv(\"./u.user\", sep=\"|\", names=[\"userId\", \"age\", \"gender\", \"occupation\", \"zip code\"])\n",
    "movie_columns = [\n",
    "    \"movieID\", \"movieTitle\", \"releaseDate\", \"videoReleaseDate\", \"IMDbURL\",\n",
    "    \"unknown\", \"Action\", \"Adventure\", \"Animation\", \"Children's\", \"Comedy\",\n",
    "    \"Crime\", \"Documentary\", \"Drama\", \"Fantasy\", \"Film-Noir\", \"Horror\",\n",
    "    \"Musical\", \"Mystery\", \"Romance\", \"Sci-Fi\", \"Thriller\", \"War\", \"Western\"\n",
    "]\n",
    "movieData = pd.read_csv(\"./u.item\", sep=\"|\", names=movie_columns, encoding=\"latin1\")\n",
    "ratingData = pd.read_csv(\"./u.data\", sep=\"\\t\", names=[\"userId\", \"itemId\", \"rating\", \"timestamp\"])\n",
    "\n",
    "#Mergar filmid:n mellan ratingdata och filmdata med en innerjoin\n",
    "movieRatings = pd.merge(ratingData, movieData, left_on=\"itemId\", right_on=\"movieID\", how=\"inner\")\n",
    "\n",
    "#Filtrerar filmratings\n",
    "movieRatings = movieRatings[[\"movieTitle\", \"rating\", \"userId\"]]\n",
    "#Lägger till userid till datan\n",
    "newData = pd.merge(userData, movieRatings, on=\"userId\", how=\"inner\")\n",
    "newData\n",
    "\n",
    "\n"
   ]
  },
  {
   "cell_type": "code",
   "execution_count": null,
   "id": "08ee1ddd",
   "metadata": {},
   "outputs": [],
   "source": [
    "#Grupperar userid:n och rating. Kör medeltalet för ratings\n",
    "user_ratings = newData.groupby(\"userId\")[\"rating\"].mean().sort_values(ascending=False)\n",
    "print(user_ratings)"
   ]
  },
  {
   "cell_type": "code",
   "execution_count": null,
   "id": "91362a96",
   "metadata": {},
   "outputs": [],
   "source": [
    "#Användare som gett goda och dåliga ratings\n",
    "good_users = [849, 688, 507, 628, 928]\n",
    "bad_users = [774, 685, 445, 405, 181]\n",
    "\n",
    "#Vill se de här kolumnerna för att försöka se gemensamheter mellan användarna\n",
    "user_findings_data = newData[[\"userId\",\"age\", \"gender\", \"occupation\"]]\n",
    "\n",
    "#Kollar först goda\n",
    "filtered_data_for_good_users = user_findings_data[user_findings_data[\"userId\"].isin(good_users)]\n",
    "filtered_data_for_good_users.drop_duplicates(subset=\"userId\")\n",
    "\n",
    "#Slutsats=Mycket unga personer i medeltal. Flera kvinnor än män\n",
    "\n"
   ]
  },
  {
   "cell_type": "code",
   "execution_count": null,
   "id": "8c1815cb",
   "metadata": {},
   "outputs": [],
   "source": [
    "#Kollar dåliga\n",
    "filtered_data_for_bad_users = user_findings_data[user_findings_data[\"userId\"].isin(bad_users)]\n",
    "filtered_data_for_bad_users.drop_duplicates(subset=\"userId\")\n",
    "\n",
    "#Äldre användare i medeltal. Flera män än kvinnor."
   ]
  }
 ],
 "metadata": {
  "kernelspec": {
   "display_name": "base",
   "language": "python",
   "name": "python3"
  },
  "language_info": {
   "codemirror_mode": {
    "name": "ipython",
    "version": 3
   },
   "file_extension": ".py",
   "mimetype": "text/x-python",
   "name": "python",
   "nbconvert_exporter": "python",
   "pygments_lexer": "ipython3",
   "version": "3.12.4"
  }
 },
 "nbformat": 4,
 "nbformat_minor": 5
}
